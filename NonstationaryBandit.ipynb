{
  "nbformat": 4,
  "nbformat_minor": 0,
  "metadata": {
    "colab": {
      "name": "NonstationaryBandit.ipynb",
      "version": "0.3.2",
      "provenance": [],
      "include_colab_link": true
    },
    "kernelspec": {
      "name": "python3",
      "display_name": "Python 3"
    }
  },
  "cells": [
    {
      "cell_type": "markdown",
      "metadata": {
        "id": "view-in-github",
        "colab_type": "text"
      },
      "source": [
        "<a href=\"https://colab.research.google.com/github/meybax/SuttonBartoRL/blob/master/NonstationaryBandit.ipynb\" target=\"_parent\"><img src=\"https://colab.research.google.com/assets/colab-badge.svg\" alt=\"Open In Colab\"/></a>"
      ]
    },
    {
      "cell_type": "code",
      "metadata": {
        "id": "VzI_UFRVqiBm",
        "colab_type": "code",
        "colab": {}
      },
      "source": [
        "import matplotlib.pyplot as plt\n",
        "import numpy as np\n",
        "import numpy.random as rand"
      ],
      "execution_count": 0,
      "outputs": []
    },
    {
      "cell_type": "code",
      "metadata": {
        "id": "rhjXiPCEr72e",
        "colab_type": "code",
        "colab": {}
      },
      "source": [
        "k = 10\n",
        "steps = 10000\n",
        "trials = 2000\n",
        "alp = 0.1\n",
        "eps = 0.1"
      ],
      "execution_count": 0,
      "outputs": []
    },
    {
      "cell_type": "code",
      "metadata": {
        "id": "Cij0oTr1r5nr",
        "colab_type": "code",
        "colab": {}
      },
      "source": [
        "rewards_const = np.zeros(10000)\n",
        "rewards_avg = np.zeros(10000)\n",
        "opt_const = np.zeros(10000)\n",
        "opt_avg = np.zeros(10000)"
      ],
      "execution_count": 0,
      "outputs": []
    },
    {
      "cell_type": "code",
      "metadata": {
        "id": "H7Q77pinsAzC",
        "colab_type": "code",
        "colab": {}
      },
      "source": [
        "def step(q, Q, rewards, opt, alp):\n",
        "    if rand.rand() > eps:\n",
        "        action = np.argmax(Q)\n",
        "    else:\n",
        "        action = rand.randint(k)\n",
        "\n",
        "    optAct = np.argmax(q)\n",
        "    opt[n] += (optAct == action)\n",
        "\n",
        "    R = rand.normal(q[action], 0.1)\n",
        "    Q[action] = Q[action] + alp * (R - Q[action])\n",
        "    rewards[n] += R"
      ],
      "execution_count": 0,
      "outputs": []
    },
    {
      "cell_type": "code",
      "metadata": {
        "id": "pJef7-1KsCod",
        "colab_type": "code",
        "colab": {}
      },
      "source": [
        "for _ in range(trials):\n",
        "    true_Q = rand.randn(k)\n",
        "    Q_const = np.zeros(k)\n",
        "    Q_avg = np.zeros(k)\n",
        "\n",
        "    for n in range(steps):\n",
        "        inc = rand.normal(0, 0.01, k)\n",
        "        true_Q = true_Q + inc\n",
        "        step(true_Q, Q_const, rewards_const, opt_const, alp)\n",
        "        step(true_Q, Q_avg, rewards_avg, opt_avg, 1 / (n + 1))"
      ],
      "execution_count": 0,
      "outputs": []
    },
    {
      "cell_type": "code",
      "metadata": {
        "id": "P9MzJgtWsEr9",
        "colab_type": "code",
        "colab": {}
      },
      "source": [
        "opt_const = opt_const / trials * 100\n",
        "rewards_const = rewards_const / trials\n",
        "opt_avg = opt_avg / trials * 100\n",
        "rewards_avg = rewards_avg/ trials\n",
        "time = np.arange(steps)"
      ],
      "execution_count": 0,
      "outputs": []
    },
    {
      "cell_type": "code",
      "metadata": {
        "id": "Nn9SXDdwsGOa",
        "colab_type": "code",
        "colab": {}
      },
      "source": [
        "fig, (ax1, ax2) = plt.subplots(2, sharex=True)\n",
        "fig.suptitle(\"NonStationary 10-Armed Testbed\")\n",
        "ax1.plot(time, rewards_const, label=\"Constant\")\n",
        "ax1.plot(time, rewards_avg, label=\"Average\")\n",
        "ax1.set(ylabel=\"Average Reward\")\n",
        "ax1.legend()\n",
        "ax2.plot(time, opt_const, label=\"Constant\")\n",
        "ax2.plot(time, opt_avg, label=\"Average\")\n",
        "ax2.set(ylabel=\"% Optimal Action\", xlabel=\"Steps\")\n",
        "ax2.legend()\n",
        "plt.show()"
      ],
      "execution_count": 0,
      "outputs": []
    }
  ]
}